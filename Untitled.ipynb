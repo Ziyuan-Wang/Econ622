{
 "cells": [
  {
   "cell_type": "markdown",
   "id": "1a15e0b3",
   "metadata": {},
   "source": [
    "## Econ 622 Problem Set 2\n",
    "\n",
    "### Ziyuan Wang\n",
    "\n",
    "#### September 23, 2024\n"
   ]
  },
  {
   "cell_type": "markdown",
   "id": "5830d771",
   "metadata": {},
   "source": [
    "##### Problem 1\n",
    "Create a Julia package using PkgTemplates.jl or BestieTemplate.jl, and commit the initial template project to github.com or gitlab.org.\n"
   ]
  },
  {
   "cell_type": "code",
   "execution_count": 7,
   "id": "50517afd",
   "metadata": {},
   "outputs": [
    {
     "ename": "LoadError",
     "evalue": "Git: Git hosting service username is required, set one with keyword `user=\"<username>\"`",
     "output_type": "error",
     "traceback": [
      "Git: Git hosting service username is required, set one with keyword `user=\"<username>\"`",
      "",
      "Stacktrace:",
      " [1] (::PkgTemplates.var\"#8#14\")(p::Git)",
      "   @ PkgTemplates ~/.julia/packages/PkgTemplates/S3BoF/src/template.jl:109",
      " [2] foreach(f::PkgTemplates.var\"#8#14\", itr::Vector{PkgTemplates.Plugin})",
      "   @ Base ./abstractarray.jl:3075",
      " [3] Template(::Val{false}; kwargs::Base.Pairs{Symbol, Union{}, Tuple{}, NamedTuple{(), Tuple{}}})",
      "   @ PkgTemplates ~/.julia/packages/PkgTemplates/S3BoF/src/template.jl:108",
      " [4] Template",
      "   @ ~/.julia/packages/PkgTemplates/S3BoF/src/template.jl:86 [inlined]",
      " [5] Template(; interactive::Bool, kwargs::Base.Pairs{Symbol, Union{}, Tuple{}, NamedTuple{(), Tuple{}}})",
      "   @ PkgTemplates ~/.julia/packages/PkgTemplates/S3BoF/src/template.jl:83",
      " [6] top-level scope",
      "   @ In[7]:4"
     ]
    }
   ],
   "source": [
    "# using Pkg\n",
    "# Pkg.add(\"PkgTemplates\")\n",
    "using PkgTemplates\n",
    "Template(interactive=false)(\"Ecosystem\")"
   ]
  },
  {
   "cell_type": "code",
   "execution_count": 9,
   "id": "55ff737b",
   "metadata": {},
   "outputs": [
    {
     "name": "stderr",
     "output_type": "stream",
     "text": [
      "\u001b[36m\u001b[1m[ \u001b[22m\u001b[39m\u001b[36m\u001b[1mInfo: \u001b[22m\u001b[39mRunning prehooks\n",
      "\u001b[36m\u001b[1m[ \u001b[22m\u001b[39m\u001b[36m\u001b[1mInfo: \u001b[22m\u001b[39mRunning hooks\n",
      "\u001b[32m\u001b[1m  Activating\u001b[22m\u001b[39m new project at `~/Library/CloudStorage/OneDrive-UBC/3rd Year/Econ 622/Problem Sets/PS2/Ecosystem/test`\n",
      "\u001b[32m\u001b[1m   Resolving\u001b[22m\u001b[39m package versions...\n",
      "\u001b[32m\u001b[1m    Updating\u001b[22m\u001b[39m `~/Library/CloudStorage/OneDrive-UBC/3rd Year/Econ 622/Problem Sets/PS2/Ecosystem/test/Project.toml`\n",
      "  \u001b[90m[8dfed614] \u001b[39m\u001b[92m+ Test\u001b[39m\n",
      "\u001b[32m\u001b[1m    Updating\u001b[22m\u001b[39m `~/Library/CloudStorage/OneDrive-UBC/3rd Year/Econ 622/Problem Sets/PS2/Ecosystem/test/Manifest.toml`\n",
      "  \u001b[90m[2a0f44e3] \u001b[39m\u001b[92m+ Base64\u001b[39m\n",
      "  \u001b[90m[b77e0a4c] \u001b[39m\u001b[92m+ InteractiveUtils\u001b[39m\n",
      "  \u001b[90m[56ddb016] \u001b[39m\u001b[92m+ Logging\u001b[39m\n",
      "  \u001b[90m[d6f4376e] \u001b[39m\u001b[92m+ Markdown\u001b[39m\n",
      "  \u001b[90m[9a3f8284] \u001b[39m\u001b[92m+ Random\u001b[39m\n",
      "  \u001b[90m[ea8e919c] \u001b[39m\u001b[92m+ SHA v0.7.0\u001b[39m\n",
      "  \u001b[90m[9e88b42a] \u001b[39m\u001b[92m+ Serialization\u001b[39m\n",
      "  \u001b[90m[8dfed614] \u001b[39m\u001b[92m+ Test\u001b[39m\n",
      "\u001b[32m\u001b[1m  Activating\u001b[22m\u001b[39m project at `~/.julia/environments/v1.9`\n",
      "\u001b[36m\u001b[1m[ \u001b[22m\u001b[39m\u001b[36m\u001b[1mInfo: \u001b[22m\u001b[39mRunning posthooks\n",
      "\u001b[36m\u001b[1m[ \u001b[22m\u001b[39m\u001b[36m\u001b[1mInfo: \u001b[22m\u001b[39mNew package is at /Users/zyw/Library/CloudStorage/OneDrive-UBC/3rd Year/Econ 622/Problem Sets/PS2/Ecosystem\n"
     ]
    },
    {
     "data": {
      "text/plain": [
       "\"/Users/zyw/Library/CloudStorage/OneDrive-UBC/3rd Year/Econ 622/Problem Sets/PS2/Ecosystem\""
      ]
     },
     "execution_count": 9,
     "metadata": {},
     "output_type": "execute_result"
    }
   ],
   "source": [
    "using PkgTemplates\n",
    "\n",
    "# define the package template\n",
    "template = Template(;\n",
    "    user = \"Ziyuan-Wang\",            # github user name\n",
    "    authors = [\"zyw\"],   # list of authors\n",
    "    dir = \"/Users/zyw/Library/CloudStorage/OneDrive-UBC/3rd Year/Econ 622/Problem Sets/PS2\",           # dir in which the package will be created\n",
    "    julia = v\"1.9.3\",                     # compat version of Julia\n",
    "    plugins = [\n",
    "        !CompatHelper,                  # disable CompatHelper\n",
    "        !TagBot,                        # disable TagBot\n",
    "        Readme(; inline_badges = true), # added readme file with badges\n",
    "        Tests(; project = true),        # added Project.toml file for unit tests\n",
    "        Git(; manifest = false),        # add manifest.toml to .gitignore\n",
    "        License(; name = \"MIT\")         # addedMIT licence\n",
    "    ],\n",
    ")\n",
    "\n",
    "# execute the package template (this creates all files/folders)\n",
    "template(\"Ecosystem\")"
   ]
  },
  {
   "cell_type": "code",
   "execution_count": 18,
   "id": "9c3ba07b",
   "metadata": {},
   "outputs": [
    {
     "ename": "LoadError",
     "evalue": "syntax: extra token \"\"\" after end of expression",
     "output_type": "error",
     "traceback": [
      "syntax: extra token \"\"\" after end of expression",
      "",
      "Stacktrace:",
      " [1] top-level scope",
      "   @ In[18]:1"
     ]
    }
   ],
   "source": [
    "!cd \"/Users/zyw/Library/CloudStorage/OneDrive-UBC/3rd Year/Econ 622/Problem Sets/PS2\""
   ]
  },
  {
   "cell_type": "code",
   "execution_count": null,
   "id": "5f8a736b",
   "metadata": {},
   "outputs": [],
   "source": []
  }
 ],
 "metadata": {
  "kernelspec": {
   "display_name": "Julia 1.9.3",
   "language": "julia",
   "name": "julia-1.9"
  },
  "language_info": {
   "file_extension": ".jl",
   "mimetype": "application/julia",
   "name": "julia",
   "version": "1.9.3"
  }
 },
 "nbformat": 4,
 "nbformat_minor": 5
}
